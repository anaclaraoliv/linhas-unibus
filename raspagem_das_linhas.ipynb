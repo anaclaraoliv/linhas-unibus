{
 "cells": [
  {
   "cell_type": "code",
   "execution_count": null,
   "id": "3cbb3503",
   "metadata": {},
   "outputs": [],
   "source": [
    "!pip install selenium"
   ]
  },
  {
   "cell_type": "code",
   "execution_count": null,
   "id": "98c73866",
   "metadata": {},
   "outputs": [],
   "source": [
    "from selenium import webdriver\n",
    "from selenium.webdriver.common.by import By\n",
    "from selenium.webdriver.common.keys import Keys\n",
    "\n",
    "# buscando elementos de texto da página da ETUFOR\n",
    "navegador = webdriver.Chrome()\n",
    "navegador.get(\"https://moovitapp.com/index/pt-br/transporte_p%C3%BAblico-lines-Fortaleza-983-9809\")\n",
    "\n",
    "linhas = []\n",
    "\n",
    "for linha in navegador.find_elements(By.CLASS_NAME,'line-title-wrapper'):\n",
    "    linha = linha.text\n",
    "    linhas.append(linha)\n",
    "    print(linha)\n"
   ]
  },
  {
   "cell_type": "code",
   "execution_count": null,
   "id": "07fe347c",
   "metadata": {},
   "outputs": [],
   "source": [
    "# separando em duas listas \n",
    "num_linhas = []\n",
    "nome_linhas = []\n",
    "\n",
    "for linha in linhas:\n",
    "    num_linhas.append(int(linha[:3]))\n",
    "    nome_linhas.append(linha[4:])\n",
    "    \n",
    "for x in num_linhas:\n",
    "    print(x)"
   ]
  },
  {
   "cell_type": "code",
   "execution_count": null,
   "id": "10fafb46",
   "metadata": {},
   "outputs": [],
   "source": [
    "import pandas as pd\n",
    "# criando dicionário \n",
    "data = {'Número': num_linhas,'Nome': nome_linhas}\n",
    "\n",
    "# criando DataFrame\n",
    "df = pd.DataFrame(data, columns=['Número','Nome'])\n",
    "df.to_csv(r'linhas_onibus.csv', index = False)\n",
    "\n",
    "display(df)\n"
   ]
  }
 ],
 "metadata": {
  "kernelspec": {
   "display_name": "Python 3 (ipykernel)",
   "language": "python",
   "name": "python3"
  },
  "language_info": {
   "codemirror_mode": {
    "name": "ipython",
    "version": 3
   },
   "file_extension": ".py",
   "mimetype": "text/x-python",
   "name": "python",
   "nbconvert_exporter": "python",
   "pygments_lexer": "ipython3",
   "version": "3.9.7"
  }
 },
 "nbformat": 4,
 "nbformat_minor": 5
}
